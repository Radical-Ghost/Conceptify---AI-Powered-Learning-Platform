{
 "cells": [
  {
   "cell_type": "code",
   "execution_count": null,
   "id": "bd3d9a88",
   "metadata": {},
   "outputs": [],
   "source": [
    "from transformers import VisionEncoderDecoderModel, TrOCRProcessor\n",
    "from PIL import Image\n",
    "import torch\n",
    "\n",
    "# Load the processor and model\n",
    "processor = TrOCRProcessor.from_pretrained(\"facebook/nougat-base\")\n",
    "model = VisionEncoderDecoderModel.from_pretrained(\"facebook/nougat-base\")\n",
    "\n",
    "# Load your image\n",
    "img = Image.open(\"path_to_your_image.png\").convert(\"RGB\")\n",
    "\n",
    "# Preprocess the image and prepare it for the model\n",
    "pixel_values = processor(images=img, return_tensors=\"pt\").pixel_values\n",
    "\n",
    "# Generate predictions\n",
    "generated_ids = model.generate(pixel_values)\n",
    "text = processor.batch_decode(generated_ids, skip_special_tokens=True)[0]\n",
    "print(text)"
   ]
  }
 ],
 "metadata": {
  "kernelspec": {
   "display_name": "conceptify-ai-powered-learning-platform",
   "language": "python",
   "name": "python3"
  },
  "language_info": {
   "name": "python",
   "version": "-1.-1.-1"
  }
 },
 "nbformat": 4,
 "nbformat_minor": 5
}
