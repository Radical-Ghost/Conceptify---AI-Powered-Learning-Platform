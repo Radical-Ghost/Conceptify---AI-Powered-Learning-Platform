{
 "cells": [
  {
   "cell_type": "code",
   "execution_count": null,
   "id": "bd3d9a88",
   "metadata": {},
   "outputs": [
    {
     "name": "stderr",
     "output_type": "stream",
     "text": [
      "c:\\Projects\\Conceptify - AI Powered Learning Platform\\.venv\\lib\\site-packages\\huggingface_hub\\file_download.py:143: UserWarning: `huggingface_hub` cache-system uses symlinks by default to efficiently store duplicated files but your machine does not support them in C:\\Users\\Soham Mandavkar\\.cache\\huggingface\\hub\\models--facebook--nougat-base. Caching files will still work but in a degraded version that might require more space on your disk. This warning can be disabled by setting the `HF_HUB_DISABLE_SYMLINKS_WARNING` environment variable. For more details, see https://huggingface.co/docs/huggingface_hub/how-to-cache#limitations.\n",
      "To support symlinks on Windows, you either need to activate Developer Mode or to run Python as an administrator. In order to activate developer mode, see this article: https://docs.microsoft.com/en-us/windows/apps/get-started/enable-your-device-for-development\n",
      "  warnings.warn(message)\n",
      "Using a slow image processor as `use_fast` is unset and a slow processor was saved with this model. `use_fast=True` will be the default behavior in v4.52, even if the model was saved with a slow processor. This will result in minor differences in outputs. You'll still be able to use a slow processor with `use_fast=False`.\n",
      "Xet Storage is enabled for this repo, but the 'hf_xet' package is not installed. Falling back to regular HTTP download. For better performance, install the package with: `pip install huggingface_hub[hf_xet]` or `pip install hf_xet`\n"
     ]
    }
   ],
   "source": [
    "#if not installed\n",
    "\n",
    "# from transformers import VisionEncoderDecoderModel, TrOCRProcessor\n",
    "# import torch\n",
    "\n",
    "# processor = TrOCRProcessor.from_pretrained(\"facebook/nougat-base\")\n",
    "# model = VisionEncoderDecoderModel.from_pretrained(\"facebook/nougat-base\")"
   ]
  },
  {
   "cell_type": "code",
   "execution_count": 1,
   "id": "e359d8b1",
   "metadata": {},
   "outputs": [
    {
     "name": "stderr",
     "output_type": "stream",
     "text": [
      "c:\\Projects\\Conceptify - AI Powered Learning Platform\\.venv\\lib\\site-packages\\tqdm\\auto.py:21: TqdmWarning: IProgress not found. Please update jupyter and ipywidgets. See https://ipywidgets.readthedocs.io/en/stable/user_install.html\n",
      "  from .autonotebook import tqdm as notebook_tqdm\n"
     ]
    }
   ],
   "source": [
    "import os\n",
    "import cv2\n",
    "import numpy as np\n",
    "from PIL import Image\n",
    "from pdf2image import convert_from_path\n",
    "import pytesseract\n",
    "from transformers import VisionEncoderDecoderModel, TrOCRProcessor"
   ]
  },
  {
   "cell_type": "code",
   "execution_count": 2,
   "id": "126f961e",
   "metadata": {},
   "outputs": [
    {
     "name": "stderr",
     "output_type": "stream",
     "text": [
      "Using a slow image processor as `use_fast` is unset and a slow processor was saved with this model. `use_fast=True` will be the default behavior in v4.52, even if the model was saved with a slow processor. This will result in minor differences in outputs. You'll still be able to use a slow processor with `use_fast=False`.\n"
     ]
    }
   ],
   "source": [
    "model = VisionEncoderDecoderModel.from_pretrained(\"C:/Projects/Conceptify - AI Powered Learning Platform/models/nougat-base\")\n",
    "processor = TrOCRProcessor.from_pretrained(\"C:/Projects/Conceptify - AI Powered Learning Platform/models/nougat-base\")"
   ]
  },
  {
   "cell_type": "code",
   "execution_count": 4,
   "id": "487e38d3",
   "metadata": {},
   "outputs": [
    {
     "name": "stdout",
     "output_type": "stream",
     "text": [
      "OCR complete! Output saved to:\n",
      "C:\\Projects\\Conceptify - AI Powered Learning Platform\\OCR\\Tests files\\MC test_ocr.txt\n"
     ]
    }
   ],
   "source": [
    "# Path to your PDF\n",
    "pdf_path = \"C:\\\\Projects\\\\Conceptify - AI Powered Learning Platform\\\\OCR\\\\Tests files\\\\MC test.pdf\"\n",
    "\n",
    "# Optional: path to Poppler bin if not in PATH\n",
    "poppler_path = r'C:\\\\Coding\\Mics\\\\poppler-25.07.0\\\\Library\\\\bin'\n",
    "\n",
    "# Tesseract path (if not in PATH)\n",
    "pytesseract.pytesseract.tesseract_cmd = r\"C:\\Coding\\Mics\\Tesseract-OCR-5.5.0.20241111/tesseract.exe\"\n",
    "\n",
    "# ------------------ Helper Functions ------------------\n",
    "def preprocess_image(page: Image.Image) -> Image.Image:\n",
    "    \"\"\"Convert page to grayscale, threshold, resize, and return RGB image.\"\"\"\n",
    "\n",
    "    # Convert to grayscale\n",
    "    img = cv2.cvtColor(np.array(page), cv2.COLOR_RGB2GRAY)\n",
    "\n",
    "    # Threshold / binarize\n",
    "    _, img = cv2.threshold(img, 150, 255, cv2.THRESH_BINARY)\n",
    "\n",
    "    # Resize width to 1280 px (keep aspect ratio)\n",
    "    h, w = img.shape\n",
    "    new_w = 1280\n",
    "    new_h = int(h * (new_w / w))\n",
    "    img = cv2.resize(img, (new_w, new_h))\n",
    "\n",
    "    # Convert back to RGB (3 channels)\n",
    "    img_rgb = cv2.cvtColor(img, cv2.COLOR_GRAY2RGB)\n",
    "    return Image.fromarray(img_rgb)\n",
    "\n",
    "\n",
    "def run_nougat(img: Image.Image) -> str:\n",
    "    \"\"\"Run Nougat OCR.\"\"\"\n",
    "    pixel_values = processor(images=img, return_tensors=\"pt\").pixel_values\n",
    "    generated_ids = model.generate(pixel_values)\n",
    "    text = processor.batch_decode(generated_ids, skip_special_tokens=True)[0]\n",
    "    return text\n",
    "\n",
    "def run_tesseract(img: Image.Image) -> str:\n",
    "    \"\"\"Run Tesseract OCR.\"\"\"\n",
    "    text = pytesseract.image_to_string(img)\n",
    "    return text\n",
    "\n",
    "# ------------------ Convert PDF to Images ------------------\n",
    "pages = convert_from_path(pdf_path, dpi=300, poppler_path=poppler_path)\n",
    "\n",
    "# ------------------ Hybrid OCR Pipeline ------------------\n",
    "full_text = \"\"\n",
    "for i, page in enumerate(pages):\n",
    "    preprocessed_img = preprocess_image(page)\n",
    "    \n",
    "    # Run Nougat first\n",
    "    nougat_text = run_nougat(preprocessed_img).strip()\n",
    "    \n",
    "    # Fallback to Tesseract if output is very short / missing\n",
    "    if len(nougat_text.splitlines()) < 2:\n",
    "        tesseract_text = run_tesseract(preprocessed_img).strip()\n",
    "        combined_text = tesseract_text\n",
    "    else:\n",
    "        combined_text = nougat_text\n",
    "    \n",
    "    # Add page separator\n",
    "    full_text += f\"\\n\\n--- Page {i+1} ---\\n\\n{combined_text}\"\n",
    "\n",
    "# ------------------ Save Output ------------------\n",
    "output_path = os.path.splitext(pdf_path)[0] + \"_ocr.txt\"\n",
    "with open(output_path, \"w\", encoding=\"utf-8\") as f:\n",
    "    f.write(full_text)\n",
    "\n",
    "print(f\"OCR complete! Output saved to:\\n{output_path}\")"
   ]
  },
  {
   "cell_type": "code",
   "execution_count": null,
   "id": "c846ea36",
   "metadata": {},
   "outputs": [
    {
     "data": {
      "text/plain": [
       "[]"
      ]
     },
     "execution_count": 3,
     "metadata": {},
     "output_type": "execute_result"
    }
   ],
   "source": [
    "# Save locally to a folder\n",
    "# model.save_pretrained(\"C:/Projects/Conceptify - AI Powered Learning Platform/models/nougat-base\")\n",
    "# processor.save_pretrained(\"C:/Projects/Conceptify - AI Powered Learning Platform/models/nougat-base\")"
   ]
  }
 ],
 "metadata": {
  "kernelspec": {
   "display_name": "Conceptify - AI Powered Learning Platform",
   "language": "python",
   "name": "python3"
  },
  "language_info": {
   "codemirror_mode": {
    "name": "ipython",
    "version": 3
   },
   "file_extension": ".py",
   "mimetype": "text/x-python",
   "name": "python",
   "nbconvert_exporter": "python",
   "pygments_lexer": "ipython3",
   "version": "3.10.14"
  }
 },
 "nbformat": 4,
 "nbformat_minor": 5
}
